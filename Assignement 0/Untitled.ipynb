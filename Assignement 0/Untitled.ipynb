{
 "cells": [
  {
   "cell_type": "code",
   "execution_count": 1,
   "metadata": {},
   "outputs": [],
   "source": [
    "import turtle \n",
    "s=turtle.Screen() \n",
    "t=turtle.Turtle() \n",
    "\n",
    "# since this starts with # it is just a comment and thus ignored by python interpreter\n",
    "\n",
    "# draw the head, i.e. circle of radius 70  \n",
    "t.circle(70)\n",
    "\n",
    "#move the pen\n",
    "t.penup()\n",
    "t.goto(15, 80)\n",
    "t.pendown()\n",
    "\n",
    "# draw right eye as a rectangle\n",
    "t.forward(20)\n",
    "t.left(90)\n",
    "t.forward(20)\n",
    "t.left(90)\n",
    "t.forward(20)\n",
    "t.left(90)\n",
    "t.forward(20)\n",
    "\n",
    "#move the pen\n",
    "t.up()\n",
    "t.goto(-15, 80)\n",
    "t.pendown()\n",
    "\n",
    "#make the pen face up\n",
    "t.setheading(90) \n",
    "\n",
    "# draw left eye as a rectangle\n",
    "t.forward(20)\n",
    "t.left(90)\n",
    "t.forward(20)\n",
    "t.left(90)\n",
    "t.forward(20)\n",
    "t.left(90)\n",
    "t.forward(20)\n",
    "\n",
    "#make the pen\n",
    "t.up()\n",
    "t.goto(-15, 35)\n",
    "t.pendown()\n",
    "\n",
    "# draw a smile as a half circle\n",
    "t.setheading(-45)\n",
    "t.circle(30,90)"
   ]
  }
 ],
 "metadata": {
  "kernelspec": {
   "display_name": "Python 3",
   "language": "python",
   "name": "python3"
  },
  "language_info": {
   "codemirror_mode": {
    "name": "ipython",
    "version": 3
   },
   "file_extension": ".py",
   "mimetype": "text/x-python",
   "name": "python",
   "nbconvert_exporter": "python",
   "pygments_lexer": "ipython3",
   "version": "3.7.6"
  }
 },
 "nbformat": 4,
 "nbformat_minor": 4
}
